{
 "cells": [
  {
   "cell_type": "markdown",
   "metadata": {},
   "source": [
    "# Tratado de datos\n",
    "\n",
    "Lo primero es convertir los archivos a **.csv** para trabajar sobre ellos y dejar los originales intactos"
   ]
  },
  {
   "cell_type": "code",
   "execution_count": 27,
   "metadata": {},
   "outputs": [],
   "source": [
    "import pandas as pd\n",
    "import os"
   ]
  },
  {
   "cell_type": "code",
   "execution_count": 28,
   "metadata": {},
   "outputs": [],
   "source": [
    "# Obtener el directorio actual (suponiendo que el script está en src)\n",
    "current_dir = os.getcwd()\n",
    "\n",
    "# Construir la ruta relativa hacia el archivo\n",
    "file_path_events = os.path.join(current_dir, '..', '..', 'utils', 'files', 'Bootcamp CDP Mock - Events V2.xlsx')\n",
    "file_path_profile = os.path.join(current_dir, '..', '..', 'utils', 'files', 'Bootcamp CDP Mock - Profiles.xlsx')\n",
    "\n",
    "# Leer el archivo Excel\n",
    "df_events = pd.read_excel(file_path_events)\n",
    "df_profile = pd.read_excel(file_path_profile)\n",
    "\n",
    "csv_path_events = os.path.join(current_dir, '..', '..', 'utils', 'files', 'Bootcamp_CDP_Events.csv')\n",
    "csv_path_profile = os.path.join(current_dir, '..', '..', 'utils', 'files', 'Bootcamp_CDP_Profile.csv')\n",
    "\n",
    "df_events.to_csv(csv_path_events, index=False)\n",
    "df_profile.to_csv(csv_path_profile, index=False)\n",
    "\n",
    "events = pd.read_csv(csv_path_events)\n",
    "profiles = pd.read_csv(csv_path_profile)"
   ]
  },
  {
   "cell_type": "markdown",
   "metadata": {},
   "source": [
    "## Analisis de tabla de perfiles\n",
    "\n",
    "- Analisis de campos esenciales\n",
    "- Busqueda de duplicados\n",
    "- Standarizacion de los datos\n",
    "- Creación del esquema"
   ]
  },
  {
   "cell_type": "code",
   "execution_count": 36,
   "metadata": {},
   "outputs": [
    {
     "data": {
      "text/html": [
       "<div>\n",
       "<style scoped>\n",
       "    .dataframe tbody tr th:only-of-type {\n",
       "        vertical-align: middle;\n",
       "    }\n",
       "\n",
       "    .dataframe tbody tr th {\n",
       "        vertical-align: top;\n",
       "    }\n",
       "\n",
       "    .dataframe thead th {\n",
       "        text-align: right;\n",
       "    }\n",
       "</style>\n",
       "<table border=\"1\" class=\"dataframe\">\n",
       "  <thead>\n",
       "    <tr style=\"text-align: right;\">\n",
       "      <th></th>\n",
       "      <th>id</th>\n",
       "      <th>first_name</th>\n",
       "      <th>last_name</th>\n",
       "      <th>email</th>\n",
       "      <th>gender</th>\n",
       "      <th>CRM ID</th>\n",
       "      <th>Products</th>\n",
       "      <th>Postal Code</th>\n",
       "      <th>Profiling Consents</th>\n",
       "      <th>Comms. Consents</th>\n",
       "      <th>Loyalty Program</th>\n",
       "      <th>Loyalty Status</th>\n",
       "    </tr>\n",
       "  </thead>\n",
       "  <tbody>\n",
       "    <tr>\n",
       "      <th>0</th>\n",
       "      <td>1</td>\n",
       "      <td>Una</td>\n",
       "      <td>Kolin</td>\n",
       "      <td>ukolin0@newsvine.com</td>\n",
       "      <td>Female</td>\n",
       "      <td>52410-3040</td>\n",
       "      <td>[{2023-04-01,Telefonía,P-001,2025-03-31}</td>\n",
       "      <td>31236.0</td>\n",
       "      <td>False</td>\n",
       "      <td>0.0</td>\n",
       "      <td>False</td>\n",
       "      <td>NaN</td>\n",
       "    </tr>\n",
       "    <tr>\n",
       "      <th>1</th>\n",
       "      <td>2</td>\n",
       "      <td>Kaila</td>\n",
       "      <td>Hasted</td>\n",
       "      <td>khasted1@ameblo.jp</td>\n",
       "      <td>NaN</td>\n",
       "      <td>51285-697</td>\n",
       "      <td>[{2021-04-01,Telefonía,P-001,2025-03-31},{2024...</td>\n",
       "      <td>NaN</td>\n",
       "      <td>False</td>\n",
       "      <td>1.0</td>\n",
       "      <td>True</td>\n",
       "      <td>Silver</td>\n",
       "    </tr>\n",
       "    <tr>\n",
       "      <th>2</th>\n",
       "      <td>3</td>\n",
       "      <td>Magdaia</td>\n",
       "      <td>Steagall</td>\n",
       "      <td>msteagall2@cisco.com</td>\n",
       "      <td>Female</td>\n",
       "      <td>33992-1108</td>\n",
       "      <td>[{2023-04-01,Telefonía,P-001,2025-03-31}</td>\n",
       "      <td>68203.0</td>\n",
       "      <td>False</td>\n",
       "      <td>0.0</td>\n",
       "      <td>False</td>\n",
       "      <td>NaN</td>\n",
       "    </tr>\n",
       "    <tr>\n",
       "      <th>3</th>\n",
       "      <td>4</td>\n",
       "      <td>Sherill</td>\n",
       "      <td>De Cristoforo</td>\n",
       "      <td>sdecristoforo3@naver.com</td>\n",
       "      <td>NaN</td>\n",
       "      <td>54868-2482</td>\n",
       "      <td>[{2023-04-01,Telefonía,P-001,2025-03-31}</td>\n",
       "      <td>NaN</td>\n",
       "      <td>False</td>\n",
       "      <td>0.0</td>\n",
       "      <td>False</td>\n",
       "      <td>NaN</td>\n",
       "    </tr>\n",
       "    <tr>\n",
       "      <th>4</th>\n",
       "      <td>5</td>\n",
       "      <td>Rory</td>\n",
       "      <td>Von Welldun</td>\n",
       "      <td>rvonwelldun4@printfriendly.com</td>\n",
       "      <td>NaN</td>\n",
       "      <td>11410-301</td>\n",
       "      <td>[{2023-04-01,Telefonía,P-001,2025-03-31}</td>\n",
       "      <td>NaN</td>\n",
       "      <td>True</td>\n",
       "      <td>NaN</td>\n",
       "      <td>False</td>\n",
       "      <td>NaN</td>\n",
       "    </tr>\n",
       "  </tbody>\n",
       "</table>\n",
       "</div>"
      ],
      "text/plain": [
       "   id first_name      last_name                           email  gender  \\\n",
       "0   1        Una          Kolin            ukolin0@newsvine.com  Female   \n",
       "1   2      Kaila         Hasted              khasted1@ameblo.jp     NaN   \n",
       "2   3    Magdaia       Steagall            msteagall2@cisco.com  Female   \n",
       "3   4    Sherill  De Cristoforo        sdecristoforo3@naver.com     NaN   \n",
       "4   5       Rory    Von Welldun  rvonwelldun4@printfriendly.com     NaN   \n",
       "\n",
       "       CRM ID                                           Products  Postal Code  \\\n",
       "0  52410-3040           [{2023-04-01,Telefonía,P-001,2025-03-31}      31236.0   \n",
       "1   51285-697  [{2021-04-01,Telefonía,P-001,2025-03-31},{2024...          NaN   \n",
       "2  33992-1108           [{2023-04-01,Telefonía,P-001,2025-03-31}      68203.0   \n",
       "3  54868-2482           [{2023-04-01,Telefonía,P-001,2025-03-31}          NaN   \n",
       "4   11410-301           [{2023-04-01,Telefonía,P-001,2025-03-31}          NaN   \n",
       "\n",
       "   Profiling Consents  Comms. Consents  Loyalty Program Loyalty Status  \n",
       "0               False              0.0            False            NaN  \n",
       "1               False              1.0             True         Silver  \n",
       "2               False              0.0            False            NaN  \n",
       "3               False              0.0            False            NaN  \n",
       "4                True              NaN            False            NaN  "
      ]
     },
     "execution_count": 36,
     "metadata": {},
     "output_type": "execute_result"
    }
   ],
   "source": [
    "profiles.head()"
   ]
  },
  {
   "cell_type": "code",
   "execution_count": 34,
   "metadata": {},
   "outputs": [
    {
     "name": "stdout",
     "output_type": "stream",
     "text": [
      "Claves duplicadas en tabla perfiles:\n",
      "0 Series([], Name: email, dtype: object) Series([], Name: CRM ID, dtype: object)\n"
     ]
    }
   ],
   "source": [
    "dupes_profile = profiles[profiles.duplicated(subset=['email', 'CRM ID'], keep=False)]  \n",
    "\n",
    "print(\"Claves duplicadas en tabla perfiles:\")\n",
    "print(len(dupes_profile), dupes_profile['email'], dupes_profile['CRM ID'])"
   ]
  },
  {
   "cell_type": "markdown",
   "metadata": {},
   "source": [
    "*No hay duplicados en las claves que considero que identifican a un perfil unico*"
   ]
  },
  {
   "cell_type": "code",
   "execution_count": null,
   "metadata": {},
   "outputs": [],
   "source": []
  }
 ],
 "metadata": {
  "kernelspec": {
   "display_name": "venv",
   "language": "python",
   "name": "python3"
  },
  "language_info": {
   "codemirror_mode": {
    "name": "ipython",
    "version": 3
   },
   "file_extension": ".py",
   "mimetype": "text/x-python",
   "name": "python",
   "nbconvert_exporter": "python",
   "pygments_lexer": "ipython3",
   "version": "3.13.0"
  }
 },
 "nbformat": 4,
 "nbformat_minor": 2
}
